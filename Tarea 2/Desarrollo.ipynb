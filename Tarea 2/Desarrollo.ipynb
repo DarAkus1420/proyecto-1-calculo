{
 "cells": [
  {
   "cell_type": "markdown",
   "id": "computational-efficiency",
   "metadata": {},
   "source": [
    "# Actividad Lunes 22 Marzo"
   ]
  },
  {
   "cell_type": "markdown",
   "id": "skilled-arena",
   "metadata": {},
   "source": [
    "Integrantes: <br>\n",
    "    -Fernando torres<br>\n",
    "    -Maximiliano González<br>\n",
    "    -Jose Moya<br>\n",
    "    -Eduardo Lobos<br>"
   ]
  },
  {
   "cell_type": "markdown",
   "id": "absent-globe",
   "metadata": {},
   "source": [
    "## ¿Cuál es la segunda derivada direccional (1) para la forma cuadrática, (2) para cualquiera función vectorial?"
   ]
  },
  {
   "cell_type": "markdown",
   "id": "earlier-combination",
   "metadata": {},
   "source": [
    "## Forma Cuadratica para la segunda Derivada:"
   ]
  },
  {
   "cell_type": "markdown",
   "id": "complex-kitty",
   "metadata": {},
   "source": [
    "Así como la primera derivada está relacionada con aproximaciones lineales, la segunda derivada está relacionada con la mejor aproximación cuadrática para una función f . Esta es la función cuadrática cuyas derivadas primera y segunda son las mismas que las de f en un punto dado. La fórmula para la mejor aproximación cuadrática a una función f alrededor del punto x = a es: "
   ]
  },
  {
   "cell_type": "markdown",
   "id": "responsible-syndicate",
   "metadata": {},
   "source": [
    "$$f(x) \\approx f(a)+ f'(a)(x-a)+\\frac{1}{2}f''(a)(x-a)^2$$"
   ]
  },
  {
   "cell_type": "markdown",
   "id": "stylish-motor",
   "metadata": {},
   "source": [
    "Esta aproximación cuadrática es el polinomio de Taylor de segundo orden para la función centrada en x = a. "
   ]
  },
  {
   "cell_type": "markdown",
   "id": "substantial-wiring",
   "metadata": {},
   "source": [
    "## Segunda Derivada Direccional para cualquier funcion vectorial:"
   ]
  },
  {
   "cell_type": "markdown",
   "id": "retained-thomson",
   "metadata": {},
   "source": [
    "Se define la segunda derivada de la función f(x,y) en la dirección a (ángulo formado con el eje X), con vector unitario ua, como:"
   ]
  },
  {
   "cell_type": "markdown",
   "id": "duplicate-binary",
   "metadata": {},
   "source": [
    "$$D_{\\alpha}^{2} f(x, y)=u_{\\alpha}^{T} \\cdot H \\cdot u_{\\alpha}$$"
   ]
  },
  {
   "cell_type": "markdown",
   "id": "acquired-buffer",
   "metadata": {},
   "source": [
    " Siendo H la matriz Hessiana :"
   ]
  },
  {
   "cell_type": "markdown",
   "id": "increased-plaintiff",
   "metadata": {},
   "source": [
    "$$H=\\left(\\begin{array}{ll}\n",
    "\\frac{\\partial^{2} f(x, y)}{\\partial x^{2}} & \\frac{\\partial^{2} f(x, y)}{\\partial x \\partial y} \\\\\n",
    "\\frac{\\partial^{2} f(x, y)}{\\partial x \\partial} & \\frac{\\partial^{2} f(x, y)}{\\partial y^{2}}\n",
    "\\end{array}\\right) $$"
   ]
  },
  {
   "cell_type": "markdown",
   "id": "seventh-trunk",
   "metadata": {},
   "source": [
    " Si se toma como ua el vector unitario en la dirección del gradiente uq, se obtiene:"
   ]
  },
  {
   "cell_type": "markdown",
   "id": "pressed-archive",
   "metadata": {},
   "source": [
    "$$D_{\\theta}^{2} f(x, y)=\\frac{\\partial^{2} f(x, y)}{\\partial x^{2}} \\cos ^{2} \\theta+2 \\frac{\\partial^{2} f(x, y)}{\\partial x \\partial y} \\operatorname{sen} \\theta \\cos \\theta+\\frac{\\partial^{2} f(x, y)}{\\partial y^{2}} \\operatorname{sen}^{2} \\theta$$"
   ]
  },
  {
   "cell_type": "markdown",
   "id": "theoretical-practice",
   "metadata": {},
   "source": [
    "o también su discretización:"
   ]
  },
  {
   "cell_type": "markdown",
   "id": "federal-dominican",
   "metadata": {},
   "source": [
    "$$\\mathrm{D}_{\\theta}^{2} \\mathrm{f}=\\frac{\\Delta_{\\mathrm{XX}} \\mathrm{f} \\cdot\\left(\\Delta_{\\mathrm{X}} \\mathrm{f}\\right)^{2}+2 \\cdot \\Delta_{\\mathrm{XY}} \\mathrm{f} \\cdot \\Delta_{\\mathrm{x}} \\mathrm{f} \\cdot \\Delta_{\\mathrm{Y}} \\mathrm{f}+\\Delta_{\\mathrm{YY}} \\mathrm{f} \\cdot\\left(\\Delta_{\\mathrm{Y}} \\mathrm{f}\\right)^{2}}{\\left(\\Delta_{\\mathrm{X}} \\mathrm{f}\\right)^{2}+\\left(\\Delta_{\\mathrm{Y}} \\mathrm{f}\\right)^{2}}$$"
   ]
  },
  {
   "cell_type": "markdown",
   "id": "radical-complement",
   "metadata": {},
   "source": [
    "Si se escoge como vector el gradiente, tendremos:"
   ]
  },
  {
   "cell_type": "markdown",
   "id": "signal-extra",
   "metadata": {},
   "source": [
    "$$\\mathrm{D}_{\\mathrm{g}}^{2} \\mathrm{f}=\\Delta_{\\mathrm{XX}} \\mathrm{f} \\cdot\\left(\\Delta_{\\mathrm{X}} \\mathrm{f}\\right)^{2}+2 \\cdot \\Delta_{\\mathrm{XY}} \\mathrm{f} \\cdot \\Delta_{\\mathrm{X}} \\mathrm{f} \\cdot \\Delta_{\\mathrm{Y}} \\mathrm{f}+\\Delta_{\\mathrm{YY}} \\mathrm{f} \\cdot\\left(\\Delta_{\\mathrm{Y}} \\mathrm{f}\\right)^{2}$$"
   ]
  },
  {
   "cell_type": "code",
   "execution_count": null,
   "id": "skilled-enhancement",
   "metadata": {},
   "outputs": [],
   "source": []
  }
 ],
 "metadata": {
  "kernelspec": {
   "display_name": "Python 3",
   "language": "python",
   "name": "python3"
  },
  "language_info": {
   "codemirror_mode": {
    "name": "ipython",
    "version": 3
   },
   "file_extension": ".py",
   "mimetype": "text/x-python",
   "name": "python",
   "nbconvert_exporter": "python",
   "pygments_lexer": "ipython3",
   "version": "3.8.5"
  }
 },
 "nbformat": 4,
 "nbformat_minor": 5
}
