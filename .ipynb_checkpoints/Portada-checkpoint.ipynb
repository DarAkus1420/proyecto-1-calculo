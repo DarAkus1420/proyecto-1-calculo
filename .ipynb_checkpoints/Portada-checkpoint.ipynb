{
 "cells": [
  {
   "cell_type": "markdown",
   "id": "surrounded-precipitation",
   "metadata": {},
   "source": [
    "# Gradientes conjugados"
   ]
  },
  {
   "cell_type": "markdown",
   "id": "utility-writer",
   "metadata": {},
   "source": [
    "Integrantes: <br>\n",
    "    -Fernando torres<br>\n",
    "    -Maximiliano González<br>\n",
    "    -Jose Moya<br>\n",
    "    -Eduardo Lobos<br>"
   ]
  },
  {
   "cell_type": "markdown",
   "id": "tight-funds",
   "metadata": {},
   "source": [
    "## Contenidos"
   ]
  },
  {
   "cell_type": "markdown",
   "id": "effective-garlic",
   "metadata": {},
   "source": [
    "1. [Introducción](Introduccion.ipynb)\n",
    "2. [Conceptos del Calculo avanzado](Conceptos.ipynb)\n",
    "3. [Preguntas solicitadas](Preguntas.ipynb)"
   ]
  },
  {
   "cell_type": "markdown",
   "id": "hollywood-moral",
   "metadata": {},
   "source": [
    "Siguiente: [1. Introducción](Introduccion.ipynb)"
   ]
  }
 ],
 "metadata": {
  "kernelspec": {
   "display_name": "Python 3",
   "language": "python",
   "name": "python3"
  },
  "language_info": {
   "codemirror_mode": {
    "name": "ipython",
    "version": 3
   },
   "file_extension": ".py",
   "mimetype": "text/x-python",
   "name": "python",
   "nbconvert_exporter": "python",
   "pygments_lexer": "ipython3",
   "version": "3.9.1"
  }
 },
 "nbformat": 4,
 "nbformat_minor": 5
}
