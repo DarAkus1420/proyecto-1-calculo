{
 "cells": [
  {
   "cell_type": "markdown",
   "id": "passive-subject",
   "metadata": {},
   "source": [
    "## ¿Cuales son los conceptos del calculo avanzado?"
   ]
  },
  {
   "cell_type": "markdown",
   "id": "computational-circular",
   "metadata": {},
   "source": [
    "1. Funciones vectoriales de varias variables reales\n",
    "2. Extremos de funciones\n",
    "3. Integral múltiple y aplicaciones\n",
    "4. Ecuaciones diferenciales ordinarias\n",
    "5. Análisis vectorial\n",
    "6. Cálculo operacional"
   ]
  },
  {
   "cell_type": "markdown",
   "id": "deadly-meditation",
   "metadata": {},
   "source": [
    "## ¿Que son los Gradiantes conjugados? "
   ]
  },
  {
   "cell_type": "markdown",
   "id": "renewable-empty",
   "metadata": {},
   "source": [
    "el método del gradiente conjugado es un algoritmo para resolver numéricamente los sistemas de ecuaciones lineales cuyas matrices son simétricas y definidas positivas. Es un método iterativo, así que se puede aplicar a los sistemas dispersos que son demasiado grandes para ser tratados por métodos directos como la descomposición de Cholesky. Tales sistemas surgen frecuentemente cuando se resuelve numéricamente las ecuaciones en derivadas parciales. "
   ]
  },
  {
   "cell_type": "markdown",
   "id": "applied-wisconsin",
   "metadata": {},
   "source": [
    "este es un metodo de descenso de gradiente, es efectivo para todos los sistemas con la forma: \\begin{equation}Ax = b\\end{equation} donde x es un vector desconocido y b es un vector que si se conoce, para A (una matriz) se debe tener en cuenta que esta debe de ser simétrica y positiva definida (también puede considerarse si es positiva e indefinida)."
   ]
  },
  {
   "cell_type": "markdown",
   "id": "proved-newsletter",
   "metadata": {},
   "source": [
    "Siguiente: [2. Desarrollo](Desarrollo.ipynb)"
   ]
  },
  {
   "cell_type": "code",
   "execution_count": null,
   "id": "baking-missile",
   "metadata": {},
   "outputs": [],
   "source": []
  }
 ],
 "metadata": {
  "kernelspec": {
   "display_name": "Python 3",
   "language": "python",
   "name": "python3"
  },
  "language_info": {
   "codemirror_mode": {
    "name": "ipython",
    "version": 3
   },
   "file_extension": ".py",
   "mimetype": "text/x-python",
   "name": "python",
   "nbconvert_exporter": "python",
   "pygments_lexer": "ipython3",
   "version": "3.9.1"
  }
 },
 "nbformat": 4,
 "nbformat_minor": 5
}
